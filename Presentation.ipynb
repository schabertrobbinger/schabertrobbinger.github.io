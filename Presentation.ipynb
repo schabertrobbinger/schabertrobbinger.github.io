{
 "cells": [
  {
   "cell_type": "markdown",
   "metadata": {
    "slideshow": {
     "slide_type": "slide"
    }
   },
   "source": [
    "**Fact: Amazon.com is rife with deceptive product marketing.**"
   ]
  },
  {
   "cell_type": "markdown",
   "metadata": {
    "slideshow": {
     "slide_type": "subslide"
    }
   },
   "source": [
    "<img src=\"reviews.png\">\n",
    "\n",
    "If you squint hard enough, you see Warren Buffett is **not** the author of this book..."
   ]
  },
  {
   "cell_type": "markdown",
   "metadata": {
    "slideshow": {
     "slide_type": "subslide"
    }
   },
   "source": [
    "It is also easy to guess why this book has so many five star reviews:\n",
    "\n",
    "<img src=\"suspiciousreview.png\">"
   ]
  },
  {
   "cell_type": "markdown",
   "metadata": {
    "slideshow": {
     "slide_type": "subslide"
    }
   },
   "source": [
    "**Question: How can we improve on Amazon.com's ratings and review rankings?**\n",
    "\n",
    "By analyzing a little over two million video game reviews from Amazon.com, I concluded<br>\n",
    "the positivity bias seen in the case above is far from a rare occurence:\n",
    "\n",
    "<img src=\"ratingshistogram1.png\">"
   ]
  },
  {
   "cell_type": "markdown",
   "metadata": {
    "slideshow": {
     "slide_type": "subslide"
    }
   },
   "source": [
    "**Solution: Amazonda smart review app!**<br><br>\n",
    "&emsp;**1) Start with 2018 Amazon review dataset from**<br> \n",
    "&emsp;https://nijianmo.github.io/amazon/index.html<br>\n",
    "&emsp;**2) Use coarse metrics like review length and number of distinct words to filter**<br>\n",
    "&emsp;**3) Use natural language processing to sort what remains by relevance**<br>\n",
    "&emsp;**4) Validate model directly on current data**<br>"
   ]
  },
  {
   "cell_type": "markdown",
   "metadata": {
    "slideshow": {
     "slide_type": "subslide"
    }
   },
   "source": [
    "**1) Start with 2018 Amazon review dataset from<br> https://nijianmo.github.io/amazon/index.html**<br>\n",
    "    \n",
    "<img src=\"jianmoni.png\">"
   ]
  },
  {
   "cell_type": "markdown",
   "metadata": {
    "slideshow": {
     "slide_type": "subslide"
    }
   },
   "source": [
    "**2) Use coarse metrics like review length and number of distinct words to filter**<br>\n",
    "\n",
    "<img src=\"upvoteplot1.png\">"
   ]
  },
  {
   "cell_type": "markdown",
   "metadata": {
    "slideshow": {
     "slide_type": "subslide"
    }
   },
   "source": [
    "**3) Use natural language processing to sort what remains by relevance**<br>\n",
    "\n",
    "Here, it will be essential to train a model to recognize high-contrast information.<br>\n",
    "Are there hyperlinks or references? Shopping tips? Discussions of problems?"
   ]
  },
  {
   "cell_type": "markdown",
   "metadata": {
    "slideshow": {
     "slide_type": "subslide"
    }
   },
   "source": [
    "**4) Validate model directly on current data**\n",
    "<img src=\"amazonda.png\">"
   ]
  }
 ],
 "metadata": {
  "celltoolbar": "Slideshow",
  "kernelspec": {
   "display_name": "Python 3",
   "language": "python",
   "name": "python3"
  },
  "language_info": {
   "codemirror_mode": {
    "name": "ipython",
    "version": 3
   },
   "file_extension": ".py",
   "mimetype": "text/x-python",
   "name": "python",
   "nbconvert_exporter": "python",
   "pygments_lexer": "ipython3",
   "version": "3.8.5"
  }
 },
 "nbformat": 4,
 "nbformat_minor": 4
}
